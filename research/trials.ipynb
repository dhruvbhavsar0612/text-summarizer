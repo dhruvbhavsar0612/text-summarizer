{
 "cells": [],
 "metadata": {
  "kernelspec": {
   "display_name": "Python 3.9.17 ('textS')",
   "language": "python",
   "name": "python3"
  },
  "language_info": {
   "codemirror_mode": {
    "name": "ipython",
    "version": 3
   },
   "file_extension": ".py",
   "mimetype": "text/x-python",
   "name": "python",
   "nbconvert_exporter": "python",
   "pygments_lexer": "ipython3",
   "version": "3.9.17"
  },
  "orig_nbformat": 4,
  "vscode": {
   "interpreter": {
    "hash": "3aad14fc3594f5f0af0a3dc9970b80657b2501ea2ad3546e82849ceed8050384"
   }
  }
 },
 "nbformat": 4,
 "nbformat_minor": 2
}
